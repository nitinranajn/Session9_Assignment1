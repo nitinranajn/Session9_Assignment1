{
 "cells": [
  {
   "cell_type": "markdown",
   "metadata": {},
   "source": [
    "Read the dataset from the below link\n",
    "https://raw.githubusercontent.com/guipsamora/pandas_exercises/master/06_Stats/US\n",
    "_Baby_Names/US_Baby_Names_right.csv\n",
    "Questions:\n",
    "1. Delete unnamed columns\n",
    "2. Show the distribution of male and female\n",
    "3. Show the top 5 most preferred names\n",
    "4. What is the median name occurence in the dataset\n",
    "5. Distribution of male and female born count by states"
   ]
  },
  {
   "cell_type": "code",
   "execution_count": 19,
   "metadata": {},
   "outputs": [],
   "source": [
    "?US_Baby_Names.drop\n",
    "US_Baby_Names.drop(labels=None, axis=0, index=None, columns=None, level=None, inplace=False, errors='raise')"
   ]
  },
  {
   "cell_type": "code",
   "execution_count": 27,
   "metadata": {
    "scrolled": true
   },
   "outputs": [
    {
     "name": "stdout",
     "output_type": "stream",
     "text": [
      "First 5 rows from main CSV file\n",
      " ++++++++++++++++++++++++++++++++++++++++++++++++++\n",
      "   Unnamed: 0     Id     Name  Year Gender State  Count\n",
      "0       11349  11350     Emma  2004      F    AK     62\n",
      "1       11350  11351  Madison  2004      F    AK     48\n",
      "2       11351  11352   Hannah  2004      F    AK     46\n",
      "3       11352  11353    Grace  2004      F    AK     44\n",
      "4       11353  11354    Emily  2004      F    AK     41\n"
     ]
    }
   ],
   "source": [
    "import numpy as np\n",
    "import pandas as pd\n",
    "import os\n",
    "csv_path= \"https://raw.githubusercontent.com/guipsamora/pandas_exercises/master/06_Stats/US_Baby_Names/US_Baby_Names_right.csv\"\n",
    "US_Baby_Names= pd.read_csv(csv_path, sep=',')\n",
    "#First 5 rows from main CSV file\n",
    "print(\"First 5 rows from main CSV file\\n\", '+'*50)\n",
    "print(US_Baby_Names.head(5))\n",
    "\n"
   ]
  },
  {
   "cell_type": "code",
   "execution_count": 29,
   "metadata": {},
   "outputs": [
    {
     "name": "stdout",
     "output_type": "stream",
     "text": [
      "Solution for Q1. Delete unnamed columns\n",
      "\n",
      "\n",
      "First 5 rows after deleting unnamed column\n",
      " ++++++++++++++++++++++++++++++++++++++++++++++++++\n",
      "      Id     Name  Year Gender State  Count\n",
      "0  11350     Emma  2004      F    AK     62\n",
      "1  11351  Madison  2004      F    AK     48\n",
      "2  11352   Hannah  2004      F    AK     46\n",
      "3  11353    Grace  2004      F    AK     44\n",
      "4  11354    Emily  2004      F    AK     41\n"
     ]
    }
   ],
   "source": [
    "#Sol1-  Delete unnamed columns\n",
    "print(\"Solution for Q1. Delete unnamed columns\")\n",
    "US_Baby_Names.drop(US_Baby_Names.columns[US_Baby_Names.columns.str.contains('unnamed',case = False)], axis= 1,inplace= True )\n",
    "# First five rows after deleting unnamed column\n",
    "print(\"\\n\\nFirst 5 rows after deleting unnamed column\\n\", '+'*50)\n",
    "print(US_Baby_Names.head(5))"
   ]
  },
  {
   "cell_type": "code",
   "execution_count": 33,
   "metadata": {
    "scrolled": true
   },
   "outputs": [
    {
     "name": "stdout",
     "output_type": "stream",
     "text": [
      "Solution for Q2. Show the distribution of male and female\n",
      "\n",
      "Gender\n",
      "F    558846\n",
      "M    457549\n",
      "Name: Gender, dtype: int64\n"
     ]
    }
   ],
   "source": [
    "#Sol2- Show the distribution of male and female\n",
    "print(\"Solution for Q2. Show the distribution of male and female\\n\")\n",
    "\n",
    "print(US_Baby_Names.groupby('Gender')['Gender'].count())\n"
   ]
  },
  {
   "cell_type": "code",
   "execution_count": 34,
   "metadata": {},
   "outputs": [
    {
     "name": "stdout",
     "output_type": "stream",
     "text": [
      "Solution for Q3.Show the top 5 most preferred names\n",
      "\n",
      "Name\n",
      "Riley     1112\n",
      "Avery     1080\n",
      "Jordan    1073\n",
      "Peyton    1064\n",
      "Hayden    1049\n",
      "Name: Name, dtype: int64\n"
     ]
    }
   ],
   "source": [
    "#Sol3- Show the top 5 most preferred names\n",
    "print(\"Solution for Q3.Show the top 5 most preferred names\\n\")\n",
    "US_Baby_Names_count = US_Baby_Names.groupby('Name')['Name'].count()\n",
    "print(US_Baby_Names_count.sort_values(ascending=False).head())\n"
   ]
  },
  {
   "cell_type": "code",
   "execution_count": 37,
   "metadata": {},
   "outputs": [
    {
     "name": "stdout",
     "output_type": "stream",
     "text": [
      "Solution for Q4. What is the median name occurence in the dataset\n",
      "\n",
      "median Id and name is below\n",
      "508197    Kasey\n",
      "Name: Name, dtype: object\n"
     ]
    }
   ],
   "source": [
    "#Sol4- What is the median name occurence in the dataset\n",
    "print(\"Solution for Q4. What is the median name occurence in the dataset\\n\")\n",
    "median_id = US_Baby_Names.median()['Id']\n",
    "print(\"median Id and name is below\")\n",
    "print(US_Baby_Names[US_Baby_Names['Id'] == median_id]['Name'])\n",
    "\n"
   ]
  },
  {
   "cell_type": "code",
   "execution_count": 38,
   "metadata": {},
   "outputs": [
    {
     "name": "stdout",
     "output_type": "stream",
     "text": [
      "Solution for Q5. Distribution of male and female born count by states\n",
      "State  Year  Gender\n",
      "AK     2004  F         204\n",
      "             M         206\n",
      "       2005  F         214\n",
      "             M         216\n",
      "       2006  F         221\n",
      "             M         217\n",
      "       2007  F         199\n",
      "             M         227\n",
      "       2008  F         225\n",
      "             M         237\n",
      "       2009  F         212\n",
      "             M         237\n",
      "       2010  F         222\n",
      "             M         240\n",
      "       2011  F         235\n",
      "             M         240\n",
      "       2012  F         216\n",
      "             M         252\n",
      "       2013  F         225\n",
      "             M         255\n",
      "       2014  F         231\n",
      "             M         260\n",
      "AL     2004  F         834\n",
      "             M         711\n",
      "       2005  F         847\n",
      "             M         719\n",
      "       2006  F         899\n",
      "             M         757\n",
      "       2007  F         942\n",
      "             M         771\n",
      "                      ... \n",
      "WV     2011  F         403\n",
      "             M         342\n",
      "       2012  F         399\n",
      "             M         352\n",
      "       2013  F         406\n",
      "             M         362\n",
      "       2014  F         386\n",
      "             M         365\n",
      "WY     2004  F         124\n",
      "             M         153\n",
      "       2005  F         131\n",
      "             M         171\n",
      "       2006  F         126\n",
      "             M         181\n",
      "       2007  F         153\n",
      "             M         177\n",
      "       2008  F         147\n",
      "             M         177\n",
      "       2009  F         133\n",
      "             M         183\n",
      "       2010  F         134\n",
      "             M         174\n",
      "       2011  F         121\n",
      "             M         166\n",
      "       2012  F         117\n",
      "             M         163\n",
      "       2013  F         139\n",
      "             M         178\n",
      "       2014  F         131\n",
      "             M         181\n",
      "Name: Gender, Length: 1122, dtype: int64\n"
     ]
    }
   ],
   "source": [
    "#Sol5- Distribution of male and female born count by states\n",
    "print(\"Solution for Q5. Distribution of male and female born count by states\")\n",
    "print(US_Baby_Names.groupby(['State','Year','Gender'])['Gender'].count())\n"
   ]
  },
  {
   "cell_type": "code",
   "execution_count": null,
   "metadata": {},
   "outputs": [],
   "source": []
  }
 ],
 "metadata": {
  "kernelspec": {
   "display_name": "Python 3",
   "language": "python",
   "name": "python3"
  },
  "language_info": {
   "codemirror_mode": {
    "name": "ipython",
    "version": 3
   },
   "file_extension": ".py",
   "mimetype": "text/x-python",
   "name": "python",
   "nbconvert_exporter": "python",
   "pygments_lexer": "ipython3",
   "version": "3.7.0"
  }
 },
 "nbformat": 4,
 "nbformat_minor": 2
}
